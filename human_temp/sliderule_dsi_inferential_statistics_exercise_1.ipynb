{
 "cells": [
  {
   "cell_type": "markdown",
   "metadata": {},
   "source": [
    "# What is the True Normal Human Body Temperature? \n",
    "\n",
    "#### Background\n",
    "\n",
    "The mean normal body temperature was held to be 37$^{\\circ}$C or 98.6$^{\\circ}$F for more than 120 years since it was first conceptualized and reported by Carl Wunderlich in a famous 1868 book. But, is this value statistically correct?"
   ]
  },
  {
   "cell_type": "markdown",
   "metadata": {},
   "source": [
    "<h3>Exercises</h3>\n",
    "\n",
    "<p>In this exercise, you will analyze a dataset of human body temperatures and employ the concepts of hypothesis testing, confidence intervals, and statistical significance.</p>\n",
    "\n",
    "<p>Answer the following questions <b>in this notebook below and submit to your Github account</b>.</p> \n",
    "\n",
    "<ol>\n",
    "<li>  Is the distribution of body temperatures normal? \n",
    "    <ul>\n",
    "    <li> Although this is not a requirement for CLT to hold (read CLT carefully), it gives us some peace of mind that the population may also be normally distributed if we assume that this sample is representative of the population.\n",
    "    </ul>\n",
    "<li>  Is the sample size large? Are the observations independent?\n",
    "    <ul>\n",
    "    <li> Remember that this is a condition for the CLT, and hence the statistical tests we are using, to apply.\n",
    "    </ul>\n",
    "<li>  Is the true population mean really 98.6 degrees F?\n",
    "    <ul>\n",
    "    <li> Would you use a one-sample or two-sample test? Why? \n",
    "    <li> In this situation, is it appropriate to use the $t$ or $z$ statistic? \n",
    "    <li> Now try using the other test. How is the result be different? Why?\n",
    "    </ul>\n",
    "<li>  Draw a small sample of size 10 from the data and repeat both tests. \n",
    "    <ul>\n",
    "    <li> Which one is the correct one to use? \n",
    "    <li> What do you notice? What does this tell you about the difference in application of the $t$ and $z$ statistic?\n",
    "    </ul>\n",
    "<li>  At what temperature should we consider someone's temperature to be \"abnormal\"?\n",
    "    <ul>\n",
    "    <li> Start by computing the margin of error and confidence interval.\n",
    "    </ul>\n",
    "<li>  Is there a significant difference between males and females in normal temperature?\n",
    "    <ul>\n",
    "    <li> What test did you use and why?\n",
    "    <li> Write a story with your conclusion in the context of the original problem.\n",
    "    </ul>\n",
    "</ol>\n",
    "\n",
    "You can include written notes in notebook cells using Markdown: \n",
    "   - In the control panel at the top, choose Cell > Cell Type > Markdown\n",
    "   - Markdown syntax: http://nestacms.com/docs/creating-content/markdown-cheat-sheet\n",
    "\n",
    "#### Resources\n",
    "\n",
    "+ Information and data sources: http://www.amstat.org/publications/jse/datasets/normtemp.txt, http://www.amstat.org/publications/jse/jse_data_archive.htm\n",
    "+ Markdown syntax: http://nestacms.com/docs/creating-content/markdown-cheat-sheet\n",
    "\n",
    "****"
   ]
  },
  {
   "cell_type": "code",
   "execution_count": 1,
   "metadata": {
    "collapsed": true
   },
   "outputs": [],
   "source": [
    "import pandas as pd\n",
    "\n",
    "df = pd.read_csv('data/human_body_temperature.csv')"
   ]
  },
  {
   "cell_type": "code",
   "execution_count": 2,
   "metadata": {},
   "outputs": [
    {
     "data": {
      "text/html": [
       "<div>\n",
       "<style>\n",
       "    .dataframe thead tr:only-child th {\n",
       "        text-align: right;\n",
       "    }\n",
       "\n",
       "    .dataframe thead th {\n",
       "        text-align: left;\n",
       "    }\n",
       "\n",
       "    .dataframe tbody tr th {\n",
       "        vertical-align: top;\n",
       "    }\n",
       "</style>\n",
       "<table border=\"1\" class=\"dataframe\">\n",
       "  <thead>\n",
       "    <tr style=\"text-align: right;\">\n",
       "      <th></th>\n",
       "      <th>temperature</th>\n",
       "      <th>gender</th>\n",
       "      <th>heart_rate</th>\n",
       "    </tr>\n",
       "  </thead>\n",
       "  <tbody>\n",
       "    <tr>\n",
       "      <th>0</th>\n",
       "      <td>99.3</td>\n",
       "      <td>F</td>\n",
       "      <td>68.0</td>\n",
       "    </tr>\n",
       "    <tr>\n",
       "      <th>1</th>\n",
       "      <td>98.4</td>\n",
       "      <td>F</td>\n",
       "      <td>81.0</td>\n",
       "    </tr>\n",
       "    <tr>\n",
       "      <th>2</th>\n",
       "      <td>97.8</td>\n",
       "      <td>M</td>\n",
       "      <td>73.0</td>\n",
       "    </tr>\n",
       "    <tr>\n",
       "      <th>3</th>\n",
       "      <td>99.2</td>\n",
       "      <td>F</td>\n",
       "      <td>66.0</td>\n",
       "    </tr>\n",
       "    <tr>\n",
       "      <th>4</th>\n",
       "      <td>98.0</td>\n",
       "      <td>F</td>\n",
       "      <td>73.0</td>\n",
       "    </tr>\n",
       "    <tr>\n",
       "      <th>5</th>\n",
       "      <td>99.2</td>\n",
       "      <td>M</td>\n",
       "      <td>83.0</td>\n",
       "    </tr>\n",
       "    <tr>\n",
       "      <th>6</th>\n",
       "      <td>98.0</td>\n",
       "      <td>M</td>\n",
       "      <td>71.0</td>\n",
       "    </tr>\n",
       "    <tr>\n",
       "      <th>7</th>\n",
       "      <td>98.8</td>\n",
       "      <td>M</td>\n",
       "      <td>78.0</td>\n",
       "    </tr>\n",
       "    <tr>\n",
       "      <th>8</th>\n",
       "      <td>98.4</td>\n",
       "      <td>F</td>\n",
       "      <td>84.0</td>\n",
       "    </tr>\n",
       "    <tr>\n",
       "      <th>9</th>\n",
       "      <td>98.6</td>\n",
       "      <td>F</td>\n",
       "      <td>86.0</td>\n",
       "    </tr>\n",
       "  </tbody>\n",
       "</table>\n",
       "</div>"
      ],
      "text/plain": [
       "   temperature gender  heart_rate\n",
       "0         99.3      F        68.0\n",
       "1         98.4      F        81.0\n",
       "2         97.8      M        73.0\n",
       "3         99.2      F        66.0\n",
       "4         98.0      F        73.0\n",
       "5         99.2      M        83.0\n",
       "6         98.0      M        71.0\n",
       "7         98.8      M        78.0\n",
       "8         98.4      F        84.0\n",
       "9         98.6      F        86.0"
      ]
     },
     "execution_count": 2,
     "metadata": {},
     "output_type": "execute_result"
    }
   ],
   "source": [
    "df.head(10)"
   ]
  },
  {
   "cell_type": "code",
   "execution_count": 3,
   "metadata": {},
   "outputs": [
    {
     "name": "stdout",
     "output_type": "stream",
     "text": [
      "<class 'pandas.core.frame.DataFrame'>\n",
      "RangeIndex: 130 entries, 0 to 129\n",
      "Data columns (total 3 columns):\n",
      "temperature    130 non-null float64\n",
      "gender         130 non-null object\n",
      "heart_rate     130 non-null float64\n",
      "dtypes: float64(2), object(1)\n",
      "memory usage: 3.1+ KB\n"
     ]
    }
   ],
   "source": [
    "df.info()"
   ]
  },
  {
   "cell_type": "code",
   "execution_count": 4,
   "metadata": {
    "collapsed": true
   },
   "outputs": [],
   "source": [
    "import seaborn as sns\n",
    "import matplotlib.pyplot as plt\n",
    "\n",
    "sns.set()"
   ]
  },
  {
   "cell_type": "code",
   "execution_count": 5,
   "metadata": {
    "collapsed": true
   },
   "outputs": [],
   "source": [
    "import numpy as np"
   ]
  },
  {
   "cell_type": "code",
   "execution_count": 6,
   "metadata": {
    "collapsed": true
   },
   "outputs": [],
   "source": [
    "def ecdf(data):\n",
    "    \"\"\"Compute ECDF for a one-dimensional array of measurements.\"\"\"\n",
    "\n",
    "    # Number of data points: n\n",
    "    n = len(data)\n",
    "\n",
    "    # x-data for the ECDF: x\n",
    "    x = np.sort(data)\n",
    "\n",
    "    # y-data for the ECDF: y\n",
    "    y = np.arange(1, n + 1) / n\n",
    "\n",
    "    return x, y"
   ]
  },
  {
   "cell_type": "code",
   "execution_count": 7,
   "metadata": {
    "collapsed": true
   },
   "outputs": [],
   "source": [
    "# computer cdf for body temperature\n",
    "\n",
    "x, y = ecdf(df.temperature)"
   ]
  },
  {
   "cell_type": "markdown",
   "metadata": {},
   "source": [
    "# (1) Are the temperatures normally distributed?"
   ]
  },
  {
   "cell_type": "code",
   "execution_count": 8,
   "metadata": {},
   "outputs": [
    {
     "data": {
      "image/png": "[encoded data removed]",
      "text/plain": [
       "<matplotlib.figure.Figure at 0x1083efcf8>"
      ]
     },
     "metadata": {},
     "output_type": "display_data"
    }
   ],
   "source": [
    "# plot observed cdf\n",
    "\n",
    "_ = plt.plot(x, y, marker='.', linestyle='none')\n",
    "_ = plt.xlabel('body temp (F)')\n",
    "_ = plt.ylabel('CDF')\n",
    "_ = plt.title('CDF of Body Temperatures (F)')\n",
    "\n",
    "plt.margins(0.02)\n",
    "plt.show()"
   ]
  },
  {
   "cell_type": "code",
   "execution_count": 9,
   "metadata": {},
   "outputs": [
    {
     "data": {
      "image/png": "[encoded data removed]",
      "text/plain": [
       "<matplotlib.figure.Figure at 0x1083efc88>"
      ]
     },
     "metadata": {},
     "output_type": "display_data"
    }
   ],
   "source": [
    "# histogram of all body temps\n",
    "\n",
    "_ = plt.hist(df.temperature, bins=11, normed=True)\n",
    "_ = plt.xlabel('body temp (F)')\n",
    "_ = plt.ylabel('count')\n",
    "_ = plt.title('Distribution of Body Temperatures (F)')\n",
    "\n",
    "plt.show()"
   ]
  },
  {
   "cell_type": "code",
   "execution_count": 10,
   "metadata": {
    "collapsed": true
   },
   "outputs": [],
   "source": [
    "# draw 10000 samples to visualize theoretical normal CDF around oberserved mean\n",
    "\n",
    "experimental_temperature = np.random.normal(np.mean(df.temperature), np.std(df.temperature), size=10000)\n",
    "\n",
    "x_exp, y_exp = ecdf(experimental_temperature)"
   ]
  },
  {
   "cell_type": "code",
   "execution_count": 11,
   "metadata": {},
   "outputs": [
    {
     "data": {
      "image/png": "[encoded data removed]",
      "text/plain": [
       "<matplotlib.figure.Figure at 0x1083efa58>"
      ]
     },
     "metadata": {},
     "output_type": "display_data"
    }
   ],
   "source": [
    "# plot observed CDF and experimental CDF together\n",
    "\n",
    "# plot observed cdf\n",
    "\n",
    "_ = plt.plot(x, y, marker='.', linestyle='none', color='blue', label='empirical')\n",
    "_ = plt.plot(x_exp, y_exp, marker='.', linestyle='none', color='red', label='experimental')\n",
    "_ = plt.xlabel('body temp (F)')\n",
    "_ = plt.ylabel('CDF')\n",
    "_ = plt.title('CDF of Body Temperatures (F)')\n",
    "_ = plt.legend()\n",
    "\n",
    "plt.margins(0.02)\n",
    "plt.show()"
   ]
  },
  {
   "cell_type": "markdown",
   "metadata": {},
   "source": [
    "#### Conclusion re: Distribution\n",
    "\n",
    "Based upon the above-plotted histogram and the comparison between empirical CDF and simulated normal CDF, the empirical temperature data appears to be approximately normally distributed.  However, the simulated normal distribution shows more temperature values on the high side (i.e., greater than the mean) than the empirical CDF.  Therefore, the empirical temperatures are not exactly normally distributed."
   ]
  },
  {
   "cell_type": "markdown",
   "metadata": {},
   "source": [
    "# (2) Is the sample size large and are the observations independent?\n",
    "\n",
    "#### Size:\n",
    "\n",
    "According to the central limit theorem (CLT), in order for a sample of independent and randomly selected observations to represent the population from which it is drawn, the sample must contain 30 or more observations.  In the case of the temperature data included here, the sample size is 130 observations.  Therefore, we can conclude that the sample size is sufficiently large for the CLT to hold.\n",
    "\n",
    "#### Randomness: \n",
    "\n",
    "The CLT also requires the samples to be randomly drawn.  In the present context, we are assuming the sample has been drawn at random, however, we need more information about how the sampling was conducted in order to draw firm conclusions.  \n",
    "\n",
    "One way to test that the observations in the sample are truly random is to examine the proportion of observations that are from males versus females.  In this context, we assume that for a truly random sample, any observation has a 50% chance of being male or female.  Therefore, approximately half of the observations in our sample should be male and half should be female, assuming it is truly random.  "
   ]
  },
  {
   "cell_type": "code",
   "execution_count": 12,
   "metadata": {},
   "outputs": [
    {
     "name": "stdout",
     "output_type": "stream",
     "text": [
      "        temperature  heart_rate\n",
      "gender                         \n",
      "F                65          65\n",
      "M                65          65\n"
     ]
    }
   ],
   "source": [
    "# calculate fraction of male observations and female observations\n",
    "\n",
    "print(df.groupby('gender').count())"
   ]
  },
  {
   "cell_type": "code",
   "execution_count": 13,
   "metadata": {},
   "outputs": [
    {
     "name": "stdout",
     "output_type": "stream",
     "text": [
      "Male observations (%): 50.0\n",
      "Female observations (%): 50.0\n"
     ]
    }
   ],
   "source": [
    "print(\"Male observations (%):\", (65/130) * 100)\n",
    "print(\"Female observations (%):\", (65/130) * 100)"
   ]
  },
  {
   "cell_type": "markdown",
   "metadata": {
    "collapsed": true
   },
   "source": [
    "<b>Conclusion</b>: Although the % of male and female observations is exactly consistent with our expectations, however, the fact that it is exactly 50% male and 50% female is telling.  Because the split is exactly 50/50, it is possible that the sampling from the population was not entirely random and that, instead, the sample was intentionally drawn to include exactly 50% male and 50% female observations. "
   ]
  },
  {
   "cell_type": "markdown",
   "metadata": {},
   "source": [
    "#### Independence:\n",
    "\n",
    "Finally, the CLT requires that samples are drawn independently (i.e., the measure of one observation in the sample has no bearing on other observations in the sample).  In the present context, we are assuming that the sample is indeed independent as there is no reason to infer that one person's body temperature will affect the next, without additional information.\n",
    "\n",
    "One way to estimate the independence of a random sampling is to observe whether the sample size is less than 10% of the population size, assuming sampling occurs <i>without replacement</i>.  In the present context, if we assume the population size is the number of living human beings (~7.28 billion people), it is clear that our sample of 130 people is less than 10% of the population size.  We are further assuming that the sampling was performed without replacement, i.e., that it was not possible to select the same individual twice in the sample.\n",
    "\n",
    "<b>Conclusion</b>: While we don't have exact information on the sampling methodology, using some basic estimations and common sense about body temperature measurements, we can assume that this sample is indeed independent."
   ]
  },
  {
   "cell_type": "markdown",
   "metadata": {},
   "source": [
    "# (3) Is the true population mean 98.6$^\\circ$F?"
   ]
  },
  {
   "cell_type": "code",
   "execution_count": 14,
   "metadata": {},
   "outputs": [
    {
     "name": "stdout",
     "output_type": "stream",
     "text": [
      "empirical mean: 98.24923076923078 degrees F\n"
     ]
    }
   ],
   "source": [
    "# first, calculate the empirical (i.e., observed) mean value from our data\n",
    "\n",
    "emp_mean = np.mean(df.temperature)\n",
    "\n",
    "print('empirical mean:', emp_mean, \"degrees F\")"
   ]
  },
  {
   "cell_type": "markdown",
   "metadata": {},
   "source": [
    "## One Tail vs. Two Tail Test:\n",
    "\n",
    "Because we are comparing one sample of 130 individuals to a single value (98.6$^\\circ$F), one-sample hypothesis testing is the appropriate method for this anaylsis.  Below, the results of performing both a one-tailed and two-tailed test of the null hypothesis have been calculated in the mathematical analysis section.\n",
    "\n",
    "## Bootstrap One Sample Hypothesis Testing:"
   ]
  },
  {
   "cell_type": "code",
   "execution_count": 15,
   "metadata": {},
   "outputs": [
    {
     "data": {
      "image/png": "[encoded data removed]",
      "text/plain": [
       "<matplotlib.figure.Figure at 0x1066dfc88>"
      ]
     },
     "metadata": {},
     "output_type": "display_data"
    }
   ],
   "source": [
    "# since we are comparing a data set to a single statistic, we shift data set so the mean equals the statistic\n",
    "\n",
    "test_mean = 98.6 # degrees F\n",
    "\n",
    "df['shifted_temp'] = df.temperature - np.mean(df.temperature) + test_mean\n",
    "\n",
    "# compute the CDF of the shifted_temp \n",
    "\n",
    "x_shift, y_shift = ecdf(df.shifted_temp)\n",
    "\n",
    "# plot both CDFs (empirical and shifted) to visualize the shift\n",
    "\n",
    "_ = plt.plot(x, y, marker='.', linestyle='none', color='blue', label='empirical')\n",
    "_ = plt.plot(x_shift, y_shift, marker='.', linestyle='none', color='green', label='shifted')\n",
    "_ = plt.xlabel('body temp (F)')\n",
    "_ = plt.ylabel('CDF')\n",
    "_ = plt.title('CDF of Body Temperatures (F)')\n",
    "_ = plt.legend()\n",
    "\n",
    "plt.margins(0.02)\n",
    "plt.show()"
   ]
  },
  {
   "cell_type": "markdown",
   "metadata": {},
   "source": [
    "<b>Null Hypothesis:</b> That the true mean human temperature from the population sampled is actually the established `test_mean` value of 98.6 degrees F."
   ]
  },
  {
   "cell_type": "code",
   "execution_count": 16,
   "metadata": {
    "collapsed": true
   },
   "outputs": [],
   "source": [
    "# write functions for bootstrap sampling\n",
    "\n",
    "def bootstrap_replicate_1d(data, func):\n",
    "    \"\"\"Draws a one-dimensional bootstrap replicate from data by applying func\"\"\"\n",
    "    return func(np.random.choice(data, size=len(data)))\n",
    "    \n",
    "def draw_bs_reps(data, func, size=1):\n",
    "    \"\"\"Draws a number of bootstrap replicates equal to the given size parameter\"\"\"\n",
    "\n",
    "    # Initialize array of replicates: bs_replicates\n",
    "    bs_replicates = np.empty(size)\n",
    "\n",
    "    # Generate replicates\n",
    "    for i in range(size):\n",
    "        bs_replicates[i] = bootstrap_replicate_1d(data, func)\n",
    "\n",
    "    return bs_replicates\n",
    "\n",
    "# write function for calculating our test statistic - i.e., differene in means\n",
    "\n",
    "def diff_from_value(data, value=test_mean):\n",
    "    \"\"\"Calculate the difference in mean of data from the given value\"\"\"\n",
    "    return np.mean(data) - value"
   ]
  },
  {
   "cell_type": "code",
   "execution_count": 17,
   "metadata": {},
   "outputs": [
    {
     "name": "stdout",
     "output_type": "stream",
     "text": [
      "Observed difference in mean: -0.35076923076921673\n"
     ]
    }
   ],
   "source": [
    "# calculate difference in empirical mean from the established test_mean value\n",
    "\n",
    "observed_diff = emp_mean - test_mean\n",
    "print(\"Observed difference in mean:\", observed_diff)"
   ]
  },
  {
   "cell_type": "code",
   "execution_count": 18,
   "metadata": {},
   "outputs": [
    {
     "name": "stdout",
     "output_type": "stream",
     "text": [
      "p-value: 0.0\n"
     ]
    }
   ],
   "source": [
    "# draw 1000000 bootstrap sample replicates and calculate p-value\n",
    "\n",
    "bs_replicates = draw_bs_reps(df.shifted_temp, diff_from_value, size=1000000)\n",
    "\n",
    "p_value = np.sum(bs_replicates <= observed_diff) / len(bs_replicates)\n",
    "\n",
    "print(\"p-value:\", p_value)"
   ]
  },
  {
   "cell_type": "code",
   "execution_count": 19,
   "metadata": {},
   "outputs": [
    {
     "data": {
      "image/png": "[encoded data removed]",
      "text/plain": [
       "<matplotlib.figure.Figure at 0x10a3f6320>"
      ]
     },
     "metadata": {},
     "output_type": "display_data"
    }
   ],
   "source": [
    "# plot histogram of bs_replicates\n",
    "\n",
    "_ = sns.distplot(bs_replicates, norm_hist=True)\n",
    "_ = plt.xlabel('bootstrap difference in means')\n",
    "_ = plt.ylabel('Density')\n",
    "_ = plt.title('Histogram of Bootstrap Replicates (difference in mean)')\n",
    "\n",
    "plt.show()"
   ]
  },
  {
   "cell_type": "markdown",
   "metadata": {},
   "source": [
    "#### Bootstrapped p-value \n",
    "\n",
    "Given the p-value of 0.0, we know that after 1 million bootstrap samples, not a single sample mean difference was as extreme as the `observed_diff` value of approximately -0.351.  The true probability of a result this extreme if the true mean human temperature is 98.6 degrees F is extremely low, below 0.0%.  Therefore, we can reject our null hypothesis that the true mean human temperature of the population from which our sample was derived is 98.6 degrees F.\n",
    "(<b>Note:</b> in this experiment, 1,000,000 bootstrap replicates were generated, however, it should be noted that if 10M or 100M or more were generated, it is possible the p-value would eventually be observed at an extremely low value of less than 0.000001)"
   ]
  },
  {
   "cell_type": "markdown",
   "metadata": {},
   "source": [
    "## Mathematical Hypothesis Testing\n",
    "\n",
    "<b>Null Hypothesis:</b> as stated above, our null hypothesis is that the true mean human temperature from the population sampled is actually the established `test_mean` value of 98.6 degrees F."
   ]
  },
  {
   "cell_type": "code",
   "execution_count": 20,
   "metadata": {},
   "outputs": [
    {
     "data": {
      "image/png": "[encoded data removed]",
      "text/plain": [
       "<matplotlib.figure.Figure at 0x10a2174e0>"
      ]
     },
     "metadata": {},
     "output_type": "display_data"
    }
   ],
   "source": [
    "# visualize the sampling distribution of 10000 samples around mean of 98.6\n",
    "\n",
    "total_sample_size = 130\n",
    "sampling_distribution = np.random.normal(98.6, (np.std(df.temperature)/np.sqrt(total_sample_size)), size=10000) # use the sample std. dev. as estimate \n",
    "\n",
    "sns.distplot(sampling_distribution, norm_hist=True)\n",
    "plt.axvline(emp_mean, color='red', linestyle='dashed', linewidth=1)\n",
    "plt.annotate(\"observed (~98.23 F)\", xy=(98.25,4), xytext=(98.32,6.3), arrowprops=dict(facecolor='red', shrink=0.05), color='red')\n",
    "plt.axvline(np.mean(sampling_distribution), color='green', linestyle='dashed', linewidth=1)\n",
    "plt.annotate(\"theoretical mean (98.6)\", xy=(98.6,4), xytext=(98.65,6.3), arrowprops=dict(facecolor='green', shrink=0.05), color='green')\n",
    "plt.title('Sampling Distribution of Sample Mean')\n",
    "plt.ylabel('Density')\n",
    "plt.xlabel('Mean temp. (F)')\n",
    "plt.show()"
   ]
  },
  {
   "cell_type": "markdown",
   "metadata": {},
   "source": [
    "<b>Formula for calculating standard error of sampling distribution:</b>\n",
    "\n",
    "$SE=\\frac{\\sigma}{\\sqrt{n}}$ where $n$ is the sample size and $\\sigma$ is the population standard deviation.  In the present context, we will use the sample standard deviation as an estimate for $\\sigma$. "
   ]
  },
  {
   "cell_type": "markdown",
   "metadata": {},
   "source": [
    "#### One tail test using z-statistic\n",
    "In the present case, we don't know the standard deviation of the entire population.  However, because our sample size is sufficiently large, we can use the sample standard deviation and the resulting z-score to calculate the probability (i.e., p-value) that the true mean human temperature is 98.6 degrees F, given our observed sample parameters.  First, we will use a one tail test.  The one tail test will calculate the probabulity of calculating a mean temperature <i>as low or lower</i> than our observed `emp_mean` value (~98.23$^\\circ$F) if the true mean population temperature is 98.6$^\\circ$F (i.e., our null hypothesis).  "
   ]
  },
  {
   "cell_type": "code",
   "execution_count": 21,
   "metadata": {},
   "outputs": [
    {
     "name": "stdout",
     "output_type": "stream",
     "text": [
      "Standard Error for Sampling Distribution: 0.0640566146952\n",
      "z-statistic: -5.47592520208\n"
     ]
    }
   ],
   "source": [
    "# calculate standard error for sampling distribution:\n",
    "std_err_sampling_dist = np.std(df.temperature)/np.sqrt(total_sample_size)\n",
    "print('Standard Error for Sampling Distribution:', std_err_sampling_dist)\n",
    "\n",
    "# calculate z statistic (i.e., how many standard errors from 98.6 is our observed mean)\n",
    "z_statistic = (emp_mean - 98.6)/std_err_sampling_dist\n",
    "print('z-statistic:', z_statistic)"
   ]
  },
  {
   "cell_type": "code",
   "execution_count": 22,
   "metadata": {},
   "outputs": [
    {
     "name": "stdout",
     "output_type": "stream",
     "text": [
      "One tail p-value: 2.17615758294e-08\n"
     ]
    }
   ],
   "source": [
    "# import stats module\n",
    "import scipy.stats as stats\n",
    "\n",
    "# calculate p-value:\n",
    "calculated_p_value = stats.norm.cdf(z_statistic)\n",
    "print('One tail p-value:', calculated_p_value)"
   ]
  },
  {
   "cell_type": "markdown",
   "metadata": {},
   "source": [
    "<b>One Tail Conclusion:</b> using a one tail test and z-statistic, the probability (p-value) of getting a mean temperature <i>as low or lower</i> than our observed mean (~98.23$^\\circ$F) if the true population mean is 98.6$^\\circ$F is an incredibly low 0.00000002176.  Therefore, we can reject the null hypothesis that the true population mean is 98.6$^\\circ$F."
   ]
  },
  {
   "cell_type": "markdown",
   "metadata": {},
   "source": [
    "#### Two tail test using z-statistic\n",
    "Here, the two tail test will give us the probability of getting a result <i>as extreme or more extreme</i> than our observed mean (~98.23$^\\circ$F) if the true population mean is 98.6$^\\circ$F.  The difference here is that the probability must include results that are extreme on the high end as well as the low end, whereas the one tailed analysis only looked at results as low or lower than the observed result.  In order to caclulate the two tailed probability, we can simply double the calculated p-value for the one tail test to reflect the area that is equal to our z-statisic or higher to the right of the mean."
   ]
  },
  {
   "cell_type": "code",
   "execution_count": 23,
   "metadata": {},
   "outputs": [
    {
     "name": "stdout",
     "output_type": "stream",
     "text": [
      "Two tail p-value: 4.35231516588e-08\n"
     ]
    }
   ],
   "source": [
    "two_tail_p_value = calculated_p_value * 2\n",
    "print('Two tail p-value:', two_tail_p_value)"
   ]
  },
  {
   "cell_type": "markdown",
   "metadata": {},
   "source": [
    "<b>Two Tail Conclusion:</b> using a two tail test and z-statistic, the probability (p-value) of getting a mean temperature <i>as extreme or more extreme</i> than our observed mean (~98.23$^\\circ$F) if the true population mean is 98.6$^\\circ$F is another incredibly low 0.00000004352.  Therefore, we can reject the null hypothesis that the true population mean is 98.6$^\\circ$F.  However, it is important to note that the two tail probability is equal to twice the one tail probability."
   ]
  },
  {
   "cell_type": "markdown",
   "metadata": {},
   "source": [
    "# (4) Draw small sample and repeat tests"
   ]
  },
  {
   "cell_type": "code",
   "execution_count": 24,
   "metadata": {},
   "outputs": [
    {
     "name": "stdout",
     "output_type": "stream",
     "text": [
      "Small sample mean: 98.22\n",
      "Small sample standard deviation: 0.73047929471\n",
      "Small sample size: 10\n",
      "Difference in mean from 98.6: -0.38\n",
      "Dregrees of freedom: 9\n",
      "Standard Error for Sampling Distribution: 0.243493098237\n",
      "t-statistic: -1.56061918285\n"
     ]
    }
   ],
   "source": [
    "# draw a small sample of size 10 without replacement\n",
    "np.random.seed(42) # set seed for reproduceability\n",
    "small_sample = np.random.choice(df.temperature, size=10, replace=False)\n",
    "\n",
    "small_sample_mean = np.mean(small_sample)\n",
    "print('Small sample mean:', small_sample_mean)\n",
    "\n",
    "small_sample_std_dev = np.std(small_sample)\n",
    "print('Small sample standard deviation:', small_sample_std_dev)\n",
    "\n",
    "print('Small sample size:', len(small_sample))\n",
    "\n",
    "small_sample_mean_diff = small_sample_mean - test_mean\n",
    "print(\"Difference in mean from 98.6:\", small_sample_mean_diff)\n",
    "\n",
    "degrees_freedom = len(small_sample) - 1\n",
    "print('Dregrees of freedom:', degrees_freedom)\n",
    "\n",
    "# calculate standard error for sampling distribution:\n",
    "std_err_small_sampling_dist = small_sample_std_dev/np.sqrt(len(small_sample)-1)\n",
    "print('Standard Error for Sampling Distribution:', std_err_small_sampling_dist)\n",
    "\n",
    "# calculate z statistic (i.e., how many standard errors from 98.6 is our observed mean)\n",
    "t_statistic = (small_sample_mean - 98.6)/std_err_small_sampling_dist\n",
    "print('t-statistic:', t_statistic)"
   ]
  },
  {
   "cell_type": "code",
   "execution_count": 25,
   "metadata": {},
   "outputs": [
    {
     "name": "stdout",
     "output_type": "stream",
     "text": [
      "-1.56061918285\n",
      "0.153046248696\n"
     ]
    }
   ],
   "source": [
    "# confirm np calculations using stats package\n",
    "t_stat, pval = stats.ttest_1samp(small_sample, test_mean)\n",
    "print(t_stat)\n",
    "print(pval)"
   ]
  },
  {
   "cell_type": "code",
   "execution_count": 26,
   "metadata": {},
   "outputs": [
    {
     "name": "stdout",
     "output_type": "stream",
     "text": [
      "One tail test p-value: 0.0765231243478\n",
      "Two tail test p-value: 0.153046248696\n"
     ]
    }
   ],
   "source": [
    "# calculate p-value for one and two tail test\n",
    "small_1tail_p_value = stats.t.sf(np.abs(t_statistic), len(small_sample)-1)\n",
    "small_2tail_p_value = small_1tail_p_value * 2\n",
    "print(\"One tail test p-value:\", small_1tail_p_value)\n",
    "print(\"Two tail test p-value:\", small_2tail_p_value)"
   ]
  },
  {
   "cell_type": "markdown",
   "metadata": {},
   "source": [
    "<b>Conclusions on Small Sample:</b> Because our sample is now below the threshold size of 30, we must rely on the t-statistic to calculate an accurate p-value for the sample mean if we assume the null hypothesis (as stated above) is true. Based on the above-calculated results, the p-value of obtaining a mean value <i>as low or lower</i> than our observed sample mean is 0.0765 or 7.65%.  The two tail test reveals a probability of 0.153 or 15.3% of getting a result <i>as extreme as</i> sample mean.  \n",
    "\n",
    "Because the t distribution has much fatter tails and because the sample size is small, we see that the p-value of getting getting the observed sample mean from the small sample is not below the typical significancs threshold of 5%.  Therefore, we could not reject the null hypothesis that the true population mean is 98.6$^\\circ$F without more data.  This is a very different result than the calculation derived using a larger sample and z-statistic above."
   ]
  },
  {
   "cell_type": "markdown",
   "metadata": {},
   "source": [
    "# (5) At what temperature should we consider someone's temperature to be \"abnormal\"?\n"
   ]
  },
  {
   "cell_type": "code",
   "execution_count": 28,
   "metadata": {},
   "outputs": [
    {
     "name": "stdout",
     "output_type": "stream",
     "text": [
      "Sample mean: 98.24923076923078\n",
      "Standard Error of Sampling Distribution: 0.0640566146952\n"
     ]
    }
   ],
   "source": [
    "# calculate 95% confidence interval\n",
    "se_sampling_distribution = np.std(df.temperature)/np.sqrt(len(df.temperature)) # approximate based on sample std. dev.\n",
    "sample_mean = np.mean(df.temperature)\n",
    "\n",
    "print(\"Sample mean:\", sample_mean)\n",
    "print(\"Standard Error of Sampling Distribution:\", se_sampling_distribution) "
   ]
  },
  {
   "cell_type": "code",
   "execution_count": 29,
   "metadata": {},
   "outputs": [
    {
     "name": "stdout",
     "output_type": "stream",
     "text": [
      "95% confidence interval: 98.1236798044 to 98.374781734\n",
      "Margin of error: 0.125550964803\n"
     ]
    }
   ],
   "source": [
    "# 95% of values fall within 1.96 of the mean in a normal distribution\n",
    "critical_value = 1.96\n",
    "low_interval = sample_mean - critical_value * se_sampling_distribution\n",
    "high_interval = sample_mean + critical_value * se_sampling_distribution\n",
    "\n",
    "# print confidence interval and margin of error\n",
    "print(\"95% confidence interval:\", low_interval, \"to\", high_interval)\n",
    "print(\"Margin of error:\", critical_value * se_sampling_distribution)"
   ]
  },
  {
   "cell_type": "markdown",
   "metadata": {
    "variables": {
     "sample_mean": "98.24923076923078"
    }
   },
   "source": [
    "<b>Confidence interval (95%):</b> we are 95% confident that the true population mean body temperature is between ~98.124$^\\circ$F and ~98.375$^\\circ$F.\n",
    "\n",
    "<b>Margin of error:</b> with 95% confidence, the calculated margin of error is approximately 0.1256$^\\circ$F.  Stated another way, we are 95% confident that the population mean is {{sample_mean}}$^\\circ$F +/- 0.1256$^\\circ$F.\n",
    "\n",
    "<b>Conclusion:</b> we should consider someone's temperature to be \"abnormal\" if it is below ~98.124$^\\circ$F or above ~98.375$^\\circ$F."
   ]
  },
  {
   "cell_type": "markdown",
   "metadata": {},
   "source": [
    "# (6) Is there a significant difference between males and females in normal temperature?\n",
    "\n",
    "<b>Two Sample Test:</b> given that we are now testing the significance of a relationship of parameters of two separate populations (i.e., males and females), a two sample hypothesis test is appropriate.\n",
    "\n",
    "<b>Null Hypothesis:</b> there is no significant difference between the normal body temperature of males and females.\n",
    "\n",
    "<b>Experimental Setup:</b> in order to test our null hypothesis ($N_0$), we will essentially compare our observed difference in mean male temperature and mean female temperature, then compare that with the expected mean if $N_0$ is true.  If $N_0$ is true, we would expect both male and female body temperatures to have the same mean, and therefore we would expect the difference between mean male and mean female temperatures to be 0$^\\circ$F."
   ]
  },
  {
   "cell_type": "code",
   "execution_count": 32,
   "metadata": {},
   "outputs": [
    {
     "data": {
      "image/png": "[encoded data removed]",
      "text/plain": [
       "<matplotlib.figure.Figure at 0x10a316ac8>"
      ]
     },
     "metadata": {},
     "output_type": "display_data"
    }
   ],
   "source": [
    "# swarm plot separating male and female\n",
    "\n",
    "sns.swarmplot(x='gender', y='temperature', data=df)\n",
    "_ = plt.xlabel('Gender')\n",
    "_ = plt.ylabel('Body temp (F)')\n",
    "\n",
    "plt.show()"
   ]
  },
  {
   "cell_type": "code",
   "execution_count": 40,
   "metadata": {},
   "outputs": [
    {
     "name": "stdout",
     "output_type": "stream",
     "text": [
      "Female mean: 98.39384615384613\n",
      "Female variance: 0.5442698224852062\n",
      "Female standard deviation: 0.7377464486428966\n",
      "Male mean: 98.1046153846154\n",
      "Male variance: 0.4807479289940825\n",
      "Male standard deviation: 0.6933598841828696\n"
     ]
    }
   ],
   "source": [
    "# split data into male and female observations\n",
    "male_temp = df[df.gender == \"M\"].temperature\n",
    "female_temp = df[df.gender == \"F\"].temperature\n",
    "\n",
    "# calculate mean, variance and standard deviation for both groups\n",
    "male_mean_temp = np.mean(male_temp)\n",
    "male_temp_var = np.var(male_temp)\n",
    "male_std_dev = np.std(male_temp)\n",
    "female_mean_temp = np.mean(female_temp)\n",
    "female_temp_var = np.var(female_temp)\n",
    "female_std_dev = np.std(female_temp)\n",
    "\n",
    "# print results\n",
    "print(\"Female mean:\", female_mean_temp)\n",
    "print(\"Female variance:\", female_temp_var)\n",
    "print(\"Female standard deviation:\", female_std_dev)\n",
    "print(\"Male mean:\", male_mean_temp)\n",
    "print(\"Male variance:\", male_temp_var)\n",
    "print(\"Male standard deviation:\", male_std_dev)"
   ]
  },
  {
   "cell_type": "markdown",
   "metadata": {},
   "source": [
    "The sampling distribution for the difference in sample means will have a mean value of $\\mu_{\\bar{x_1}-\\bar{x_2}}$ where $\\bar{x_1}$ is the sample mean for female temperatures and $\\bar{x_2}$ is the sample mean for female temperatures.  If our $N_0$ stated above is true, the expected value of $\\mu_{\\bar{x_1}-\\bar{x_2}}$ will be 0 (i.e., the mean difference of mean temperatures between male and female will be 0 if there is no significant difference between the two populations).  \n",
    "\n",
    "We know from the central limit theorem that the variance for the sampling distribution of the sample mean ($\\sigma_\\bar{x}^2$) in each case (i.e., male and female) is equal to the population variance ($\\sigma_x^2$) divided by the sample size ($n$), such that:\n",
    "\n",
    "$$\\sigma_\\bar{x}^2=\\frac{\\sigma_x^2}{n}$$\n",
    "\n",
    "We can further infer from the central limit theorem that the variance of the sampling distribution of the difference in sample means ($\\sigma_{\\bar{x_1}-\\bar{x_2}}^2$) will be equal to the sum of the variance of the two samples, such that:\n",
    "\n",
    "$$\\sigma_{\\bar{x_1}-\\bar{x_2}}^2=\\sigma_\\bar{x_1}^2+\\sigma_\\bar{x_2}^2$$\n",
    "\n",
    "And, therefore, the standard error of the sampling distributions of the difference sample mean will be the square root of the variance, such that:\n",
    "\n",
    "$$\\sigma_{\\bar{x_1}-\\bar{x_2}}=\\sqrt{\\frac{\\sigma_{x_1}^2}{n_1}+\\frac{\\sigma_{x_1}^2}{n_2}}$$\n",
    "\n",
    "In the present case, $n=65$ for both male and female samples, however, we don't know the value of $\\sigma_{x_1}^2$ or $\\sigma_{x_2}^2$.  Because we have sufficiently large samples of males and females, we can use the sample variance for the male and female sample."
   ]
  },
  {
   "cell_type": "code",
   "execution_count": 41,
   "metadata": {},
   "outputs": [
    {
     "name": "stdout",
     "output_type": "stream",
     "text": [
      "0.125576685212\n"
     ]
    }
   ],
   "source": [
    "se_sampling_diff_means = np.sqrt((male_temp_var/65)+(female_temp_var/65))\n",
    "\n",
    "print(se_sampling_diff_means)"
   ]
  },
  {
   "cell_type": "code",
   "execution_count": 42,
   "metadata": {},
   "outputs": [
    {
     "name": "stdout",
     "output_type": "stream",
     "text": [
      "0.289230769230727\n"
     ]
    }
   ],
   "source": [
    "# calculate the observed difference in means\n",
    "observed_diff_mf = female_mean_temp - male_mean_temp\n",
    "print(observed_diff_mf)"
   ]
  },
  {
   "cell_type": "code",
   "execution_count": 45,
   "metadata": {},
   "outputs": [
    {
     "name": "stdout",
     "output_type": "stream",
     "text": [
      "the observed difference in sample means is 2.30322028919 standard errors from the sampling mean\n"
     ]
    }
   ],
   "source": [
    "number_std_errors = observed_diff_mf / se_sampling_diff_means\n",
    "print(\"the observed difference in sample means is\", number_std_errors, \"standard errors from the sampling mean\")"
   ]
  },
  {
   "cell_type": "code",
   "execution_count": 48,
   "metadata": {},
   "outputs": [
    {
     "name": "stdout",
     "output_type": "stream",
     "text": [
      "One tail p-value: 0.0106332259151\n",
      "Two tail p-value: 0.0212664518301\n"
     ]
    }
   ],
   "source": [
    "# calculate p-value given z-statistic\n",
    "print(\"One tail p-value:\", stats.norm.sf(number_std_errors))\n",
    "print(\"Two tail p-value:\", stats.norm.sf(number_std_errors)*2)"
   ]
  },
  {
   "cell_type": "markdown",
   "metadata": {
    "variables": {
     "number_std_errors": "2.3032202891940123",
     "observed_diff_mf": "0.289230769230727"
    }
   },
   "source": [
    "<b>Conclusion:</b> based on the calculated z-statistic (i.e., number of standard errors) of {{number_std_errors}}, there is a ~1% chance that the difference in means would be <i>as high as</i> the observed difference in means of {{observed_diff_mf}} if $N_0$ were true.  Based on the same z-statistic, there is a ~2% that the the observed difference in would be <i>as extreme as</i> the observed difference of {{observed_diff_mf}} if $N_0$ were true.  Therefore, we can safely reject our $N_0$ and conclude that it is likely that mean body temperature differs in a significant way between males and females."
   ]
  },
  {
   "cell_type": "code",
   "execution_count": null,
   "metadata": {
    "collapsed": true
   },
   "outputs": [],
   "source": []
  }
 ],
 "metadata": {
  "kernelspec": {
   "display_name": "Python 3",
   "language": "python",
   "name": "python3"
  },
  "language_info": {
   "codemirror_mode": {
    "name": "ipython",
    "version": 3
   },
   "file_extension": ".py",
   "mimetype": "text/x-python",
   "name": "python",
   "nbconvert_exporter": "python",
   "pygments_lexer": "ipython3",
   "version": "3.6.3"
  }
 },
 "nbformat": 4,
 "nbformat_minor": 1
}
